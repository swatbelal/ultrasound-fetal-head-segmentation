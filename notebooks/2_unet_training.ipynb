{
 "cells": [
  {
   "cell_type": "markdown",
   "id": "f97b2bb05047e04",
   "metadata": {
    "collapsed": false
   },
   "source": [
    "# 1. Setup (import paths so we can use src/)"
   ]
  },
  {
   "cell_type": "code",
   "execution_count": null,
   "id": "d4d981555acf4eff",
   "metadata": {
    "collapsed": false
   },
   "outputs": [],
   "source": [
    "# Make src importable from the notebook folder\n",
    "import sys, pathlib\n",
    "ROOT = pathlib.Path.cwd().parent  # notebooks/ -> project root\n",
    "SRC = ROOT / \"src\"\n",
    "sys.path.append(str(SRC))\n",
    "\n",
    "print(\"ROOT:\", ROOT)\n",
    "print(\"SRC :\", SRC)\n"
   ]
  },
  {
   "cell_type": "markdown",
   "id": "1a623aa70ef805f9",
   "metadata": {
    "collapsed": false
   },
   "source": [
    "# 2. Imports & Config"
   ]
  },
  {
   "cell_type": "code",
   "execution_count": null,
   "id": "ef11740e127114f7",
   "metadata": {
    "collapsed": false
   },
   "outputs": [],
   "source": [
    "import tensorflow as tf\n",
    "from pathlib import Path\n",
    "import json\n",
    "\n",
    "import config as cfg\n",
    "import dataset as ds\n",
    "from model import unet_model, bce_dice_loss, BinaryMeanIoU, DiceMetric\n",
    "\n",
    "print(\"IMG_SIZE:\", cfg.IMG_SIZE)\n",
    "print(\"TRAIN_IMG_DIR:\", cfg.TRAIN_IMG_DIR)\n",
    "print(\"TRAIN_MASK_IMG_DIR:\", cfg.TRAIN_MASK_IMG_DIR)\n",
    "print(\"RESULTS_DIR:\", cfg.RESULTS_DIR)\n"
   ]
  },
  {
   "cell_type": "markdown",
   "id": "91b89655e630ef76",
   "metadata": {
    "collapsed": false
   },
   "source": [
    "# 3. (Optional) GPU sanity + mixed precision"
   ]
  },
  {
   "cell_type": "code",
   "execution_count": null,
   "id": "25ea4bd94f18d484",
   "metadata": {
    "collapsed": false
   },
   "outputs": [],
   "source": [
    "# Show GPUs\n",
    "print(\"GPUs:\", tf.config.list_physical_devices(\"GPU\"))\n",
    "\n",
    "# If you want mixed-precision (often helps on modern GPUs)\n",
    "from tensorflow.keras import mixed_precision\n",
    "policy = mixed_precision.Policy(\"mixed_float16\")\n",
    "mixed_precision.set_global_policy(policy)\n",
    "print(\"Policy:\", mixed_precision.global_policy())\n"
   ]
  },
  {
   "cell_type": "markdown",
   "id": "8130d90e5bf4653a",
   "metadata": {
    "collapsed": false
   },
   "source": [
    "# 4. Load Datasets"
   ]
  },
  {
   "cell_type": "code",
   "execution_count": null,
   "id": "2aa145d7992a7d72",
   "metadata": {
    "collapsed": false
   },
   "outputs": [],
   "source": [
    "train_ds, val_ds = ds.get_datasets(val_split=0.2, batch_size=cfg.BATCH_SIZE)\n",
    "train_card = tf.data.experimental.cardinality(train_ds).numpy()\n",
    "val_card = tf.data.experimental.cardinality(val_ds).numpy()\n",
    "print(\"Train cardinality:\", train_card, \" Val cardinality:\", val_card)\n"
   ]
  },
  {
   "cell_type": "markdown",
   "id": "2599de389996e7f3",
   "metadata": {
    "collapsed": false
   },
   "source": [
    "# 5. Build & Compile Model"
   ]
  },
  {
   "cell_type": "code",
   "execution_count": null,
   "id": "b3b4d16f1f987ca8",
   "metadata": {
    "collapsed": false
   },
   "outputs": [],
   "source": [
    "model = unet_model(input_shape=(cfg.IMG_SIZE[0], cfg.IMG_SIZE[1], 1))\n",
    "model.compile(\n",
    "    optimizer=tf.keras.optimizers.Adam(cfg.LEARNING_RATE),\n",
    "    loss=bce_dice_loss,\n",
    "    metrics=[\"accuracy\", BinaryMeanIoU(), DiceMetric()]\n",
    ")\n",
    "model.summary()\n"
   ]
  },
  {
   "cell_type": "markdown",
   "id": "1f6b27cc08455070",
   "metadata": {
    "collapsed": false
   },
   "source": [
    "# 6. Callbacks (mirror train.py)"
   ]
  },
  {
   "cell_type": "code",
   "execution_count": null,
   "id": "93961260d71bc1e0",
   "metadata": {
    "collapsed": false
   },
   "outputs": [],
   "source": [
    "cfg.RESULTS_DIR.mkdir(parents=True, exist_ok=True)\n",
    "\n",
    "ckpt = tf.keras.callbacks.ModelCheckpoint(\n",
    "    filepath=str(cfg.MODEL_PATH),\n",
    "    save_best_only=True,\n",
    "    monitor=\"val_loss\",\n",
    "    mode=\"min\",\n",
    "    verbose=1\n",
    ")\n",
    "early = tf.keras.callbacks.EarlyStopping(\n",
    "    monitor=\"val_loss\",\n",
    "    patience=8,\n",
    "    restore_best_weights=True,\n",
    "    verbose=1\n",
    ")\n",
    "reduce = tf.keras.callbacks.ReduceLROnPlateau(\n",
    "    monitor=\"val_loss\",\n",
    "    factor=0.5,\n",
    "    patience=3,\n",
    "    verbose=1,\n",
    "    min_lr=1e-7\n",
    ")\n",
    "callbacks = [ckpt, early, reduce]\n"
   ]
  },
  {
   "cell_type": "markdown",
   "id": "2ff6f9708b9ed175",
   "metadata": {
    "collapsed": false
   },
   "source": [
    "# 7. Train"
   ]
  },
  {
   "cell_type": "code",
   "execution_count": null,
   "id": "947bcf516e734a7f",
   "metadata": {
    "collapsed": false
   },
   "outputs": [],
   "source": [
    "print(\"Starting training…\")\n",
    "history = model.fit(\n",
    "    train_ds,\n",
    "    validation_data=val_ds,\n",
    "    epochs=cfg.EPOCHS,\n",
    "    callbacks=callbacks,\n",
    "    verbose=1\n",
    ")\n"
   ]
  },
  {
   "cell_type": "markdown",
   "id": "46892ff343c4cea8",
   "metadata": {
    "collapsed": false
   },
   "source": [
    "# 8. Save History + Quick Plots"
   ]
  },
  {
   "cell_type": "code",
   "execution_count": null,
   "id": "565082ad03f111ce",
   "metadata": {
    "collapsed": false
   },
   "outputs": [],
   "source": [
    "# Save history dict\n",
    "with open(cfg.HISTORY_PATH, \"w\") as f:\n",
    "    f.write(str(history.history))\n",
    "print(\"History saved to:\", cfg.HISTORY_PATH)\n",
    "\n",
    "# Plot\n",
    "import matplotlib.pyplot as plt\n",
    "\n",
    "def plot_curve(hist, key, title=None):\n",
    "    plt.figure()\n",
    "    plt.plot(hist.history[key], label=f\"train_{key}\")\n",
    "    if f\"val_{key}\" in hist.history:\n",
    "        plt.plot(hist.history[f\"val_{key}\"], label=f\"val_{key}\")\n",
    "    plt.xlabel(\"Epoch\")\n",
    "    plt.ylabel(key)\n",
    "    if title: plt.title(title)\n",
    "    plt.legend()\n",
    "    plt.show()\n",
    "\n",
    "plot_curve(history, \"loss\", \"Loss\")\n",
    "plot_curve(history, \"accuracy\", \"Accuracy\")\n",
    "plot_curve(history, \"mean_io_u\", \"Mean IoU\")\n",
    "plot_curve(history, \"dice_metric\", \"Dice (thresholded)\")\n"
   ]
  }
 ],
 "metadata": {
  "kernelspec": {
   "display_name": "Python 3 (ipykernel)",
   "language": "python",
   "name": "python3"
  },
  "language_info": {
   "codemirror_mode": {
    "name": "ipython",
    "version": 3
   },
   "file_extension": ".py",
   "mimetype": "text/x-python",
   "name": "python",
   "nbconvert_exporter": "python",
   "pygments_lexer": "ipython3",
   "version": "3.12.2"
  }
 },
 "nbformat": 4,
 "nbformat_minor": 5
}
