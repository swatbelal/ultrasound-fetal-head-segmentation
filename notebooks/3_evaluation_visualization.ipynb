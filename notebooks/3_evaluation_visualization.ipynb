{
 "cells": [
  {
   "cell_type": "markdown",
   "id": "874527ddae3f89bc",
   "metadata": {
    "collapsed": false,
    "jupyter": {
     "outputs_hidden": false
    }
   },
   "source": [
    "# 1. Load metrics.json"
   ]
  },
  {
   "cell_type": "code",
   "execution_count": 12,
   "id": "b256645230b562bd",
   "metadata": {
    "collapsed": false,
    "jupyter": {
     "outputs_hidden": false
    }
   },
   "outputs": [
    {
     "data": {
      "text/plain": [
       "dict_keys(['train', 'test'])"
      ]
     },
     "execution_count": 12,
     "metadata": {},
     "output_type": "execute_result"
    }
   ],
   "source": [
    "import json\n",
    "from pathlib import Path\n",
    "import matplotlib.pyplot as plt\n",
    "import src.config as cfg\n",
    "metrics_path = cfg.RESULTS_DIR / \"metrics.json\"\n",
    "with open(metrics_path) as f:\n",
    "    results = json.load(f)\n",
    "\n",
    "results.keys()  # → should show \"train\", \"test\" if both exist"
   ]
  },
  {
   "cell_type": "markdown",
   "id": "9c086685b0a63cdd",
   "metadata": {
    "collapsed": false,
    "jupyter": {
     "outputs_hidden": false
    }
   },
   "source": [
    "# 2. Summary metrics\n",
    "- Display mean Dice/IoU (including/excluding empties)."
   ]
  },
  {
   "cell_type": "code",
   "execution_count": 13,
   "id": "d71aa5242f4fb2ed",
   "metadata": {
    "collapsed": false,
    "jupyter": {
     "outputs_hidden": false
    }
   },
   "outputs": [
    {
     "name": "stderr",
     "output_type": "stream",
     "text": [
      "C:\\Users\\Belal\\AppData\\Local\\Temp\\ipykernel_19356\\2006212182.py:6: FutureWarning: The behavior of DataFrame concatenation with empty or all-NA entries is deprecated. In a future version, this will no longer exclude empty or all-NA columns when determining the result dtypes. To retain the old behavior, exclude the relevant entries before the concat operation.\n",
      "  pd.concat({split: summarize(data) for split, data in results.items()})\n"
     ]
    },
    {
     "data": {
      "text/html": [
       "<div>\n",
       "<style scoped>\n",
       "    .dataframe tbody tr th:only-of-type {\n",
       "        vertical-align: middle;\n",
       "    }\n",
       "\n",
       "    .dataframe tbody tr th {\n",
       "        vertical-align: top;\n",
       "    }\n",
       "\n",
       "    .dataframe thead th {\n",
       "        text-align: right;\n",
       "    }\n",
       "</style>\n",
       "<table border=\"1\" class=\"dataframe\">\n",
       "  <thead>\n",
       "    <tr style=\"text-align: right;\">\n",
       "      <th></th>\n",
       "      <th></th>\n",
       "      <th>mean_dice_including_empty</th>\n",
       "      <th>mean_iou_including_empty</th>\n",
       "      <th>mean_dice_excluding_empty_gt</th>\n",
       "      <th>mean_iou_excluding_empty_gt</th>\n",
       "    </tr>\n",
       "  </thead>\n",
       "  <tbody>\n",
       "    <tr>\n",
       "      <th>train</th>\n",
       "      <th>0</th>\n",
       "      <td>9.602152e-01</td>\n",
       "      <td>9.290072e-01</td>\n",
       "      <td>0.960215</td>\n",
       "      <td>0.929007</td>\n",
       "    </tr>\n",
       "    <tr>\n",
       "      <th>test</th>\n",
       "      <th>0</th>\n",
       "      <td>6.486092e-11</td>\n",
       "      <td>6.486092e-11</td>\n",
       "      <td>NaN</td>\n",
       "      <td>NaN</td>\n",
       "    </tr>\n",
       "  </tbody>\n",
       "</table>\n",
       "</div>"
      ],
      "text/plain": [
       "         mean_dice_including_empty  mean_iou_including_empty  \\\n",
       "train 0               9.602152e-01              9.290072e-01   \n",
       "test  0               6.486092e-11              6.486092e-11   \n",
       "\n",
       "         mean_dice_excluding_empty_gt  mean_iou_excluding_empty_gt  \n",
       "train 0                      0.960215                     0.929007  \n",
       "test  0                           NaN                          NaN  "
      ]
     },
     "execution_count": 13,
     "metadata": {},
     "output_type": "execute_result"
    }
   ],
   "source": [
    "import pandas as pd\n",
    "\n",
    "def summarize(split_data):\n",
    "    return pd.DataFrame([split_data[\"metrics\"]])\n",
    "\n",
    "pd.concat({split: summarize(data) for split, data in results.items()})"
   ]
  },
  {
   "cell_type": "markdown",
   "id": "c90eae178fe841a4",
   "metadata": {
    "collapsed": false,
    "jupyter": {
     "outputs_hidden": false
    }
   },
   "source": [
    "# 3. Per-image metrics analysis\n",
    "- Load into a DataFrame and make plots."
   ]
  },
  {
   "cell_type": "code",
   "execution_count": null,
   "id": "767bdc04c929f4c8",
   "metadata": {
    "collapsed": false,
    "jupyter": {
     "outputs_hidden": false
    }
   },
   "outputs": [],
   "source": [
    "for split, data in results.items():\n",
    "    df = pd.DataFrame(data[\"per_image\"])\n",
    "    print(f\"{split} – {len(df)} images\")\n",
    "    display(df.head())\n",
    "\n",
    "    plt.hist(df[\"dice\"], bins=20)\n",
    "    plt.title(f\"{split} Dice distribution\")\n",
    "    plt.xlabel(\"Dice\"); plt.ylabel(\"Count\")\n",
    "    plt.show()"
   ]
  },
  {
   "cell_type": "markdown",
   "id": "604dca7050a835b6",
   "metadata": {
    "collapsed": false,
    "jupyter": {
     "outputs_hidden": false
    }
   },
   "source": [
    "# 4. Find best/worst examples"
   ]
  },
  {
   "cell_type": "code",
   "execution_count": null,
   "id": "a7eb39b4f3ebe7fa",
   "metadata": {
    "collapsed": false,
    "jupyter": {
     "outputs_hidden": false
    }
   },
   "outputs": [],
   "source": [
    "def top_k(df, k=5, col=\"dice\"):\n",
    "    return df.sort_values(col, ascending=False).head(k)\n",
    "\n",
    "def bottom_k(df, k=5, col=\"dice\"):\n",
    "    return df.sort_values(col, ascending=True).head(k)"
   ]
  },
  {
   "cell_type": "markdown",
   "id": "80815aa63d3a4c2c",
   "metadata": {
    "collapsed": false,
    "jupyter": {
     "outputs_hidden": false
    }
   },
   "source": [
    "# 5. Visualize overlays for specific examples\n",
    "- Because `evaluate.py` saves ```_image.png, _gt_mask.png, _pred_mask.png, _overlay.png``` under results/sample_predictions/<split>, we can map image names to overlays."
   ]
  },
  {
   "cell_type": "code",
   "execution_count": null,
   "id": "67150492846815e3",
   "metadata": {
    "collapsed": false,
    "jupyter": {
     "outputs_hidden": false
    }
   },
   "outputs": [],
   "source": [
    "import cv2\n",
    "import matplotlib.pyplot as plt\n",
    "\n",
    "def show_example(split, image_name):\n",
    "    base = cfg.RESULTS_DIR / \"sample_predictions\" / split / Path(image_name).stem\n",
    "    overlay = str(base) + \"_overlay.png\"\n",
    "    gt = str(base) + \"_gt_mask.png\"\n",
    "    pred = str(base) + \"_pred_mask.png\"\n",
    "\n",
    "    imgs = [cv2.cvtColor(cv2.imread(p), cv2.COLOR_BGR2RGB) for p in [overlay, gt, pred]]\n",
    "    titles = [\"Overlay\", \"GT mask\", \"Pred mask\"]\n",
    "\n",
    "    plt.figure(figsize=(12,4))\n",
    "    for i, (im, t) in enumerate(zip(imgs, titles)):\n",
    "        plt.subplot(1,3,i+1)\n",
    "        plt.imshow(im, cmap=\"gray\")\n",
    "        plt.title(t)\n",
    "        plt.axis(\"off\")\n",
    "    plt.show()\n",
    "    \n",
    "df = pd.DataFrame(results[\"train\"][\"per_image\"])\n",
    "worst = df.sort_values(\"dice\").iloc[0]\n",
    "show_example(\"train\", worst[\"image\"])"
   ]
  },
  {
   "cell_type": "markdown",
   "id": "724cfaf554e38be1",
   "metadata": {
    "collapsed": false,
    "jupyter": {
     "outputs_hidden": false
    }
   },
   "source": [
    "# 6. Scatterplot of GT size vs. Dice (to see if tiny masks fail more often)."
   ]
  },
  {
   "cell_type": "code",
   "execution_count": null,
   "id": "5f643175a33ac8fd",
   "metadata": {
    "collapsed": false,
    "jupyter": {
     "outputs_hidden": false
    }
   },
   "outputs": [],
   "source": [
    "for split, data in results.items():\n",
    "    df = pd.DataFrame(data[\"per_image\"])\n",
    "    plt.scatter(df[\"gt_sum\"], df[\"dice\"], alpha=0.5)\n",
    "    plt.title(f\"{split}: Dice vs GT size\")\n",
    "    plt.xlabel(\"GT mask sum (pixels)\")\n",
    "    plt.ylabel(\"Dice\")\n",
    "    plt.show()"
   ]
  }
 ],
 "metadata": {
  "kernelspec": {
   "display_name": "Python 3 (ipykernel)",
   "language": "python",
   "name": "python3"
  },
  "language_info": {
   "codemirror_mode": {
    "name": "ipython",
    "version": 3
   },
   "file_extension": ".py",
   "mimetype": "text/x-python",
   "name": "python",
   "nbconvert_exporter": "python",
   "pygments_lexer": "ipython3",
   "version": "3.12.2"
  }
 },
 "nbformat": 4,
 "nbformat_minor": 5
}
